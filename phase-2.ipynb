{
 "cells": [
  {
   "cell_type": "code",
   "execution_count": 4,
   "id": "ad4bcdb2",
   "metadata": {},
   "outputs": [
    {
     "name": "stdout",
     "output_type": "stream",
     "text": [
      "Python array multiplication :  [2 4 6]\n"
     ]
    }
   ],
   "source": [
    "import numpy as np\n",
    "np_array= np.array([1,2,3])\n",
    "print(\"Python array multiplication : \",np_array*2)"
   ]
  },
  {
   "cell_type": "code",
   "execution_count": 11,
   "id": "9534b753",
   "metadata": {},
   "outputs": [
    {
     "name": "stdout",
     "output_type": "stream",
     "text": [
      "[ 0  1  2  3  4  5  6  7  8  9 10]\n",
      "[2 3 4 5 6 7]\n"
     ]
    }
   ],
   "source": [
    "array = np.arange(0,11)\n",
    "print(array)    \n",
    "print(array[2:8])\n"
   ]
  },
  {
   "cell_type": "code",
   "execution_count": 21,
   "id": "6adfddf0",
   "metadata": {},
   "outputs": [
    {
     "name": "stdout",
     "output_type": "stream",
     "text": [
      "[[1 2 3]\n",
      " [4 5 6]\n",
      " [3 6 7]]\n",
      "element in the array : 6\n",
      "Entire row : [4 5 6]\n",
      " col specific:  [2 5 6]\n"
     ]
    }
   ],
   "source": [
    "arr_2d = np.array([[1,2,3],[4,5,6],[3,6,7]])\n",
    "print(arr_2d)\n",
    "print(\"element in the array :\",arr_2d[1,2])\n",
    "print(\"Entire row :\",arr_2d[1])\n",
    "print(\" col specific: \",arr_2d[:,1])\n"
   ]
  },
  {
   "cell_type": "markdown",
   "id": "37e9178f",
   "metadata": {},
   "source": [
    "## Sorted array "
   ]
  },
  {
   "cell_type": "code",
   "execution_count": 22,
   "id": "e5eb7c35",
   "metadata": {},
   "outputs": [
    {
     "name": "stdout",
     "output_type": "stream",
     "text": [
      "sorted array : [1 2 3 4 5 6 7]\n"
     ]
    }
   ],
   "source": [
    "unsorted = np.array([3,1,4,5,2,6,7])\n",
    "print(\"sorted array :\",np.sort(unsorted))"
   ]
  },
  {
   "cell_type": "code",
   "execution_count": 25,
   "id": "8140015f",
   "metadata": {},
   "outputs": [
    {
     "name": "stdout",
     "output_type": "stream",
     "text": [
      "sorted 2D array by col :\n",
      " [[2 1]\n",
      " [3 5]\n",
      " [4 7]]\n"
     ]
    }
   ],
   "source": [
    "arr_2d_unsorted = np.array([[3,1],[4,5],[2,7]])\n",
    "print(\"sorted 2D array by col :\\n\",np.sort(arr_2d_unsorted , axis=0)) # and in row wise sorting we use axis=1"
   ]
  },
  {
   "cell_type": "code",
   "execution_count": 27,
   "id": "d5c7e78b",
   "metadata": {},
   "outputs": [
    {
     "name": "stdout",
     "output_type": "stream",
     "text": [
      "[2 4 6 8]\n"
     ]
    }
   ],
   "source": [
    "number = np.array([1,2,3,4,5,6,7,8])\n",
    "even_number= number[number % 2 ==0]\n",
    "print(even_number)"
   ]
  },
  {
   "cell_type": "code",
   "execution_count": 28,
   "id": "29f128b0",
   "metadata": {},
   "outputs": [
    {
     "name": "stdout",
     "output_type": "stream",
     "text": [
      "[1 2 3 4 5 6 7 8]\n"
     ]
    }
   ],
   "source": [
    "print(number)"
   ]
  },
  {
   "cell_type": "code",
   "execution_count": null,
   "id": "6013921a",
   "metadata": {},
   "outputs": [
    {
     "name": "stdout",
     "output_type": "stream",
     "text": [
      "[6 7 8]\n"
     ]
    }
   ],
   "source": [
    "mask = number >5 # it gives the indexes of greter than 5 \n",
    "print(number[mask])"
   ]
  },
  {
   "cell_type": "markdown",
   "id": "86d291e6",
   "metadata": {},
   "source": [
    "## Fancy indexing vs np.where()\n"
   ]
  },
  {
   "cell_type": "code",
   "execution_count": 33,
   "id": "686eaa95",
   "metadata": {},
   "outputs": [
    {
     "name": "stdout",
     "output_type": "stream",
     "text": [
      "[1 2 3]\n",
      "no greater than 5 : [6 7 8]\n"
     ]
    }
   ],
   "source": [
    "indices =[0,1,2]\n",
    "print(number[indices])\n",
    "\n",
    "where_result = np.where( number >5)\n",
    "print(\"no greater than 5 :\",number[where_result])"
   ]
  },
  {
   "cell_type": "code",
   "execution_count": 34,
   "id": "ae847594",
   "metadata": {},
   "outputs": [
    {
     "name": "stdout",
     "output_type": "stream",
     "text": [
      "['false' 'false' 'false' 'false' 'false' 'ture' 'ture' 'ture']\n"
     ]
    }
   ],
   "source": [
    "condition_array =np.where(number > 5, \"ture\" , \"false\")\n",
    "print(condition_array)"
   ]
  },
  {
   "cell_type": "markdown",
   "id": "d1126fa4",
   "metadata": {},
   "source": [
    "## Array compatibility"
   ]
  },
  {
   "cell_type": "code",
   "execution_count": 40,
   "id": "0c53a734",
   "metadata": {},
   "outputs": [
    {
     "name": "stdout",
     "output_type": "stream",
     "text": [
      "(3,)\n",
      "compatibility shaped : False\n"
     ]
    }
   ],
   "source": [
    "a = np.array([1,2,3])\n",
    "b=np.array([4,5,6,3])\n",
    "print(a.shape)\n",
    "print(\"compatibility shaped :\",a.shape == b.shape)"
   ]
  },
  {
   "cell_type": "code",
   "execution_count": 57,
   "id": "bcd64849",
   "metadata": {},
   "outputs": [
    {
     "name": "stdout",
     "output_type": "stream",
     "text": [
      "[[1 2]\n",
      " [3 4]\n",
      " [5 6]]\n",
      "[[7]\n",
      " [8]]\n",
      "(2, 1)\n",
      "[[1 2 7]\n",
      " [3 4 8]]\n"
     ]
    }
   ],
   "source": [
    "original = np.array([[1,2],[3,4]]) # two dimensional array \n",
    "new_row = np.array([5,6]) #one dimensional array \n",
    "combined = np.vstack((original , new_row)) # it adds the new row to the matrix \n",
    "print(combined)\n",
    "\n",
    "new_col = np.array([[7],[8]]) #2D array with one col \n",
    "print(new_col)\n",
    "print(new_col.shape) # it gives no of rows , no of col \n",
    "with_new_col = np.hstack((original , new_col))\n",
    "print(with_new_col)\n"
   ]
  },
  {
   "cell_type": "code",
   "execution_count": 61,
   "id": "43b6091b",
   "metadata": {},
   "outputs": [
    {
     "name": "stdout",
     "output_type": "stream",
     "text": [
      "return the array after delteting the values from it :  [1 2 4]\n"
     ]
    }
   ],
   "source": [
    "arr= np.array([1,2,3,4,5])\n",
    "deleted = np.delete(arr,[2,4])\n",
    "print(\"return the array after delteting the values from it : \",deleted)"
   ]
  }
 ],
 "metadata": {
  "kernelspec": {
   "display_name": "venv",
   "language": "python",
   "name": "python3"
  },
  "language_info": {
   "codemirror_mode": {
    "name": "ipython",
    "version": 3
   },
   "file_extension": ".py",
   "mimetype": "text/x-python",
   "name": "python",
   "nbconvert_exporter": "python",
   "pygments_lexer": "ipython3",
   "version": "3.13.7"
  }
 },
 "nbformat": 4,
 "nbformat_minor": 5
}
