{
 "cells": [
  {
   "cell_type": "code",
   "execution_count": 9,
   "id": "f8f76591",
   "metadata": {},
   "outputs": [],
   "source": [
    "import pandas as pd \n",
    "from sklearn.linear_model import LinearRegression\n",
    "import matplotlib.pyplot as plt"
   ]
  },
  {
   "cell_type": "code",
   "execution_count": null,
   "id": "01e2f4b3",
   "metadata": {},
   "outputs": [
    {
     "name": "stdout",
     "output_type": "stream",
     "text": [
      "Based on your hours 9.0 of study you secured [130.] marks \n"
     ]
    }
   ],
   "source": [
    "X =[[1],[2],[3],[4],[5]]\n",
    "Y = [ 50 , 60 , 70 , 80 , 90]\n",
    "model = LinearRegression()\n",
    "model.fit(X , Y)\n",
    "hours = float(input(\"Enter the no of hours you have studied :\"))\n",
    "predicted_marks = model.predict([[hours]])\n",
    "print(f\"Based on your hours {hours} of study you secured {predicted_marks} marks \")\n"
   ]
  },
  {
   "cell_type": "code",
   "execution_count": null,
   "id": "606aec0f",
   "metadata": {},
   "outputs": [],
   "source": []
  },
  {
   "cell_type": "code",
   "execution_count": null,
   "id": "d9c48703",
   "metadata": {},
   "outputs": [],
   "source": []
  }
 ],
 "metadata": {
  "kernelspec": {
   "display_name": ".venv",
   "language": "python",
   "name": "python3"
  },
  "language_info": {
   "codemirror_mode": {
    "name": "ipython",
    "version": 3
   },
   "file_extension": ".py",
   "mimetype": "text/x-python",
   "name": "python",
   "nbconvert_exporter": "python",
   "pygments_lexer": "ipython3",
   "version": "3.13.7"
  }
 },
 "nbformat": 4,
 "nbformat_minor": 5
}
