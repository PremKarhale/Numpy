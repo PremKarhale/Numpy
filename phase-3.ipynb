{
 "cells": [
  {
   "cell_type": "markdown",
   "id": "16855a3f",
   "metadata": {},
   "source": [
    "## Numpy of zamato Dataset \n"
   ]
  },
  {
   "cell_type": "code",
   "execution_count": 2,
   "id": "897ac733",
   "metadata": {},
   "outputs": [],
   "source": [
    "import numpy as np \n",
    "import matplotlib as plt "
   ]
  },
  {
   "cell_type": "code",
   "execution_count": null,
   "id": "55b62d98",
   "metadata": {},
   "outputs": [
    {
     "name": "stdout",
     "output_type": "stream",
     "text": [
      "==== ZOMATO SALES ANALYSIS ====\n",
      "zomato data shape :  (5, 5)\n",
      "[[150000 180000 220000 250000]\n",
      " [120000 140000 160000 190000]\n",
      " [200000 230000 260000 300000]\n",
      " [110000 135000 155000 180000]\n",
      " [175000 195000 225000 265000]]\n"
     ]
    }
   ],
   "source": [
    "#Data structure : [restaurant_id , 2021 , 2022, 2023, 2024,]\n",
    "sales_data = np.array([\n",
    "    [1, 150000, 180000, 220000, 250000],  # Paradise Biryani \n",
    "    [2, 120000, 140000, 160000, 190000],  # Beijing Bites \n",
    "    [3, 200000, 230000, 260000, 300000],  # Burger Point \n",
    "    [4, 110000, 135000, 155000, 180000],  # Pizza Palace\n",
    "    [5, 175000, 195000, 225000, 265000],  # Taco Town\n",
    "])\n",
    "print(\"==== ZOMATO SALES ANALYSIS ====\")\n",
    "print(\"zomato data shape : \" , sales_data.shape)\n",
    "print(sales_data[: , 1:]) #iska matlab hai  : matlab sare rows dedo or , 1: is matlab hai rows ke andar 1 se start karo aur sare dedo [m , n] [rows , coloumn ]"
   ]
  },
  {
   "cell_type": "code",
   "execution_count": null,
   "id": "54591d4e",
   "metadata": {},
   "outputs": [],
   "source": []
  }
 ],
 "metadata": {
  "kernelspec": {
   "display_name": "venv",
   "language": "python",
   "name": "python3"
  },
  "language_info": {
   "codemirror_mode": {
    "name": "ipython",
    "version": 3
   },
   "file_extension": ".py",
   "mimetype": "text/x-python",
   "name": "python",
   "nbconvert_exporter": "python",
   "pygments_lexer": "ipython3",
   "version": "3.13.7"
  }
 },
 "nbformat": 4,
 "nbformat_minor": 5
}
