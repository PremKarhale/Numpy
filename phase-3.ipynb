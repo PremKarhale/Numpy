{
 "cells": [
  {
   "cell_type": "markdown",
   "id": "16855a3f",
   "metadata": {},
   "source": [
    "## Numpy of zamato Dataset \n"
   ]
  },
  {
   "cell_type": "code",
   "execution_count": 14,
   "id": "897ac733",
   "metadata": {},
   "outputs": [],
   "source": [
    "import numpy as np \n",
    "import matplotlib as plt \n",
    "import matplotlib.pyplot as plt"
   ]
  },
  {
   "cell_type": "markdown",
   "id": "ac773599",
   "metadata": {},
   "source": [
    "## !! Remember \n",
    "### axis = 0 --> coloumn wise   , axis = 1 --> row wise "
   ]
  },
  {
   "cell_type": "code",
   "execution_count": 4,
   "id": "55b62d98",
   "metadata": {},
   "outputs": [
    {
     "name": "stdout",
     "output_type": "stream",
     "text": [
      "==== ZOMATO SALES ANALYSIS ====\n",
      "zomato data shape :  (5, 5)\n",
      "[[150000 180000 220000 250000]\n",
      " [120000 140000 160000 190000]\n",
      " [200000 230000 260000 300000]\n",
      " [110000 135000 155000 180000]\n",
      " [175000 195000 225000 265000]]\n"
     ]
    }
   ],
   "source": [
    "#Data structure : [restaurant_id , 2021 , 2022, 2023, 2024,]\n",
    "sales_data = np.array([\n",
    "    [1, 150000, 180000, 220000, 250000],  # Paradise Biryani \n",
    "    [2, 120000, 140000, 160000, 190000],  # Beijing Bites \n",
    "    [3, 200000, 230000, 260000, 300000],  # Burger King \n",
    "    [4, 110000, 135000, 155000, 180000],  # Pizza Palace\n",
    "    [5, 175000, 195000, 225000, 265000],  # Taco Town\n",
    "])\n",
    "print(\"==== ZOMATO SALES ANALYSIS ====\")\n",
    "print(\"zomato data shape : \" , sales_data.shape)\n",
    "print(sales_data[0:,1:]) #iska matlab hai  : matlab sare rows dedo or , 1: is matlab hai rows ke andar 1 se start karo aur sare dedo [m , n] [rows , coloumn ]"
   ]
  },
  {
   "cell_type": "code",
   "execution_count": 5,
   "id": "54591d4e",
   "metadata": {},
   "outputs": [
    {
     "name": "stdout",
     "output_type": "stream",
     "text": [
      "So the yearly total of all the Restorants is : [ 755000  880000 1020000 1185000]\n",
      "min sales per resturants : [150000 120000 200000 110000 175000]\n",
      " max sales per resturants : [250000 190000 300000 180000 265000]\n",
      "[200000 230000 260000 300000]\n",
      "Avg sales per resturant : [200000. 152500. 247500. 145000. 215000.]\n",
      "247500.0\n"
     ]
    }
   ],
   "source": [
    "# Total sales per year \n",
    "yearly_total = np.sum(sales_data[: , 1:],axis=0)\n",
    "print(\"So the yearly total of all the Restorants is :\",yearly_total)\n",
    "\n",
    "# min sales per resturants \n",
    "min_sales = np.min(sales_data[:,1:] , axis= 1)\n",
    "print(\"min sales per resturants :\",min_sales)\n",
    "\n",
    "# max sales per resturants\n",
    "max_sales = np.max(sales_data[:,1:] , axis =1)\n",
    "print( \" max sales per resturants :\",max_sales)\n",
    "# Max sales per year  \n",
    "max_sale = np.max(sales_data[: , 1:], axis =0)\n",
    "print(max_sale)\n",
    "\n",
    "# Avg sales per resturant \n",
    "avg_sale = np.mean(sales_data[:,1:] , axis =1)\n",
    "print(\"Avg sales per resturant :\",avg_sale)\n",
    "print(np.max(avg_sale))\n",
    "\n"
   ]
  },
  {
   "cell_type": "code",
   "execution_count": 6,
   "id": "512c2ff2",
   "metadata": {},
   "outputs": [
    {
     "name": "stdout",
     "output_type": "stream",
     "text": [
      "[[150000 330000 550000 800000]\n",
      " [120000 260000 420000 610000]\n",
      " [200000 430000 690000 990000]\n",
      " [110000 245000 400000 580000]\n",
      " [175000 370000 595000 860000]]\n"
     ]
    }
   ],
   "source": [
    "# cumulative sum of all the resturant \n",
    "cum_sum = np.cumsum(sales_data[:,1:],axis =1)\n",
    "print(cum_sum)"
   ]
  },
  {
   "cell_type": "markdown",
   "id": "95007173",
   "metadata": {},
   "source": [
    "### shape tells no of elements in 1D or (rows , coloumns) in 2D or (depth ,rows , coloumns )in 3D"
   ]
  },
  {
   "cell_type": "code",
   "execution_count": 7,
   "id": "407be63d",
   "metadata": {},
   "outputs": [
    {
     "name": "stdout",
     "output_type": "stream",
     "text": [
      "[[4 5]\n",
      " [3 6]]\n",
      "[[6 7]\n",
      " [1 9]]\n",
      "vecotr addition : \n",
      " [[10 12]\n",
      " [ 4 15]]\n",
      "vector multiplication :  [[24 35]\n",
      " [ 3 54]]\n",
      "Dot product : \n",
      " [[29 73]\n",
      " [24 75]]\n",
      "angle between two vectors is : \n",
      " [[1.32638399 0.91582363]\n",
      " [1.36916853 0.89460585]]\n"
     ]
    }
   ],
   "source": [
    "vector1 = np.array([[4,5] ,[3,6]])\n",
    "print(vector1)\n",
    "vector2 = np.array([[6,7],[1,9]])\n",
    "print(vector2)\n",
    "print(\"vecotr addition : \\n\",vector1 + vector2)\n",
    "print(\"vector multiplication : \" , vector1*vector2)\n",
    "print(\"Dot product : \\n\", np.dot(vector1,vector2))\n",
    "angle = np.arccos(np.dot(vector1,vector2)/(np.linalg.norm(vector1)*np.linalg.norm(vector2)))\n",
    "print(\"angle between two vectors is : \\n\",angle) \n"
   ]
  },
  {
   "cell_type": "code",
   "execution_count": 8,
   "id": "aaf3cdd2",
   "metadata": {},
   "outputs": [
    {
     "name": "stdout",
     "output_type": "stream",
     "text": [
      "['biryani' 'pulav' 'burgur' 'sandwith' 'cafe']\n",
      "['BIRYANI' 'PULAV' 'BURGUR' 'SANDWITH' 'CAFE']\n"
     ]
    }
   ],
   "source": [
    "restorent_types =np.array(['biryani','pulav','burgur','sandwith','cafe'])\n",
    "print(restorent_types)\n",
    "vectorized_upper = np.vectorize(str.upper)\n",
    "print(vectorized_upper(restorent_types))"
   ]
  },
  {
   "cell_type": "code",
   "execution_count": null,
   "id": "89bb10ff",
   "metadata": {},
   "outputs": [
    {
     "data": {
      "image/png": "[encoded data removed]",
      "text/plain": [
       "<Figure size 1000x500 with 1 Axes>"
      ]
     },
     "metadata": {},
     "output_type": "display_data"
    }
   ],
   "source": [
    "# logo_data = np.random.rand(100,200,3) # creates the logo \n",
    "# np.save('numpy-logo.npy',logo_data)\n",
    "\n",
    "try:\n",
    "    logo = np.load('numpy-logo.npy')\n",
    "    # Display\n",
    "    plt.figure(figsize=(10, 5))\n",
    "    plt.subplot(121)\n",
    "    plt.imshow(logo)\n",
    "    plt.title(\"numpy logo\")  # Fixed: title (not tilte)\n",
    "    plt.grid(True) \n",
    "    plt.show() # Fixed: True (not 'True')\n",
    "\n",
    "    dark_logo =1 - logo\n",
    "    plt.subplot(122)\n",
    "    plt.imshow(dark_logo)   \n",
    "    plt.title(\"Dark logo\")  \n",
    "    plt.grid(False)\n",
    "    plt.show()\n",
    "except FileNotFoundError:\n",
    "    print(\"file not found\")"
   ]
  },
  {
   "cell_type": "code",
   "execution_count": null,
   "id": "13533176",
   "metadata": {},
   "outputs": [],
   "source": []
  },
  {
   "cell_type": "code",
   "execution_count": null,
   "id": "05bd26d1",
   "metadata": {},
   "outputs": [],
   "source": []
  }
 ],
 "metadata": {
  "kernelspec": {
   "display_name": "venv",
   "language": "python",
   "name": "python3"
  },
  "language_info": {
   "codemirror_mode": {
    "name": "ipython",
    "version": 3
   },
   "file_extension": ".py",
   "mimetype": "text/x-python",
   "name": "python",
   "nbconvert_exporter": "python",
   "pygments_lexer": "ipython3",
   "version": "3.13.7"
  }
 },
 "nbformat": 4,
 "nbformat_minor": 5
}
