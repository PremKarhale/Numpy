{
 "cells": [
  {
   "cell_type": "markdown",
   "id": "1c639689",
   "metadata": {},
   "source": [
    "## Numpy array basics \n",
    "learning numpy with chai aur code \n"
   ]
  },
  {
   "cell_type": "markdown",
   "id": "24c40a04",
   "metadata": {},
   "source": []
  },
  {
   "cell_type": "code",
   "execution_count": 2,
   "id": "1e51e692",
   "metadata": {},
   "outputs": [
    {
     "name": "stdout",
     "output_type": "stream",
     "text": [
      "Python executable: c:\\Users\\Admin\\Desktop\\numpy\\Numpy\\venv\\Scripts\\python.exe\n",
      "Should contain 'venv': True\n"
     ]
    }
   ],
   "source": [
    "\n",
    "import sys\n",
    "print(\"Python executable:\", sys.executable)\n",
    "print(\"Should contain 'venv':\", 'venv' in sys.executable)"
   ]
  },
  {
   "cell_type": "code",
   "execution_count": 1,
   "id": "f1f70165",
   "metadata": {},
   "outputs": [
    {
     "name": "stdout",
     "output_type": "stream",
     "text": [
      "Numpy version: 2.3.3\n"
     ]
    }
   ],
   "source": [
    "import numpy as np\n",
    "print(\"Numpy version:\", np.__version__)"
   ]
  },
  {
   "cell_type": "code",
   "execution_count": 4,
   "id": "1e012018",
   "metadata": {},
   "outputs": [
    {
     "name": "stdout",
     "output_type": "stream",
     "text": [
      "1D array: [1 2 3 4 5]\n",
      "[[1 2 3]\n",
      " [4 5 6]]\n"
     ]
    }
   ],
   "source": [
    "arr_1d=np.array([1,2,3,4,5])\n",
    "print(\"1D array:\",arr_1d)\n",
    "\n",
    "arr_2d = np.array([[1,2,3] ,[4,5,6]])\n",
    "print(arr_2d)"
   ]
  },
  {
   "cell_type": "markdown",
   "id": "eec30bb1",
   "metadata": {},
   "source": [
    "## list vs numpy"
   ]
  },
  {
   "cell_type": "code",
   "execution_count": 8,
   "id": "c3d8aa0c",
   "metadata": {},
   "outputs": [
    {
     "name": "stdout",
     "output_type": "stream",
     "text": [
      "Python array multiplication :  [1, 2, 3, 1, 2, 3]\n"
     ]
    }
   ],
   "source": [
    "py_list = [1,2,3]\n",
    "print(\"Python array multiplication : \",py_list*2)"
   ]
  },
  {
   "cell_type": "code",
   "execution_count": 10,
   "id": "c7eb4b94",
   "metadata": {},
   "outputs": [
    {
     "name": "stdout",
     "output_type": "stream",
     "text": [
      "Python array multiplication :  [2 4 6]\n"
     ]
    }
   ],
   "source": [
    "## element wise multiplication \n",
    "np_array= np.array([1,2,3])\n",
    "print(\"Python array multiplication : \",np_array*2)"
   ]
  },
  {
   "cell_type": "code",
   "execution_count": 14,
   "id": "95c09b72",
   "metadata": {},
   "outputs": [
    {
     "name": "stdout",
     "output_type": "stream",
     "text": [
      "\n",
      " List operation time :  0.40405988693237305\n",
      "\n",
      " Numpy operation time :  0.007233858108520508\n"
     ]
    }
   ],
   "source": [
    "import time \n",
    "start = time.time()\n",
    "py_list = [i*2 for i in range(1000000)]\n",
    "print(\"\\n List operation time : \",time.time()-start)\n",
    "\n",
    "start = time.time()\n",
    "np_array=np.arange(1000000)*2\n",
    "print(\"\\n Numpy operation time : \",time.time()-start)\n"
   ]
  },
  {
   "cell_type": "markdown",
   "id": "5e1c39bd",
   "metadata": {},
   "source": [
    "## Creating arrays from scratch \n"
   ]
  },
  {
   "cell_type": "code",
   "execution_count": 27,
   "id": "6756a77a",
   "metadata": {},
   "outputs": [
    {
     "name": "stdout",
     "output_type": "stream",
     "text": [
      " Zero array :\n",
      " [[0. 0. 0. 0.]\n",
      " [0. 0. 0. 0.]\n",
      " [0. 0. 0. 0.]]\n",
      " ones array :\n",
      " [[1. 1. 1.]\n",
      " [1. 1. 1.]]\n",
      "Full array :\n",
      " [[7 7]\n",
      " [7 7]]\n",
      "random : \n",
      " [[0.12427015 0.58588716 0.56244467]\n",
      " [0.37658203 0.8819508  0.95508951]]\n",
      "sequence :  [ 0  2  4  6  8 10]\n"
     ]
    }
   ],
   "source": [
    "## arrays of zeroes , one or full , random \n",
    "zeros= np.zeros((3,4))\n",
    "print(\" Zero array :\\n\", zeros)\n",
    "\n",
    "one = np.ones((2,3))\n",
    "print(\" ones array :\\n\", one)\n",
    "\n",
    "full = np.full((2,2),7)\n",
    "print(\"Full array :\\n\",full)\n",
    "\n",
    "random = np.random.random((2,3))\n",
    "print(\"random : \\n\" , random )\n",
    "\n",
    "sequence = np.arange(0,11,2)\n",
    "print(\"sequence : \",sequence)"
   ]
  },
  {
   "cell_type": "markdown",
   "id": "c247fdc0",
   "metadata": {},
   "source": [
    "### Vector , Matrix , Tensor "
   ]
  },
  {
   "cell_type": "code",
   "execution_count": null,
   "id": "92fcb083",
   "metadata": {},
   "outputs": [
    {
     "name": "stdout",
     "output_type": "stream",
     "text": [
      "vector : [1 2 3]\n",
      "matrix : \n",
      " [[1 2 3]\n",
      " [4 5 6]]\n",
      "Tensor : \n",
      "  [[[1 2]\n",
      "  [3 4]]\n",
      "\n",
      " [[5 6]\n",
      "  [7 8]]]\n"
     ]
    }
   ],
   "source": [
    "vector = np.array([1,2,3])\n",
    "print(\"vector :\",vector)\n",
    "\n",
    "matrix = np.array([[1,2,3] ,[4,5,6]])\n",
    "print(\"matrix : \\n\",matrix)\n",
    "\n",
    "tensor = np.array([[[1,2] ,[3,4]],[[5,6],[7,8]]])\n",
    "shape = tensor.shape()\n",
    "print(\"Tensor : \\n \",tensor)\n",
    "print(shape)"
   ]
  },
  {
   "cell_type": "code",
   "execution_count": null,
   "id": "f089146c",
   "metadata": {},
   "outputs": [],
   "source": []
  }
 ],
 "metadata": {
  "kernelspec": {
   "display_name": "venv",
   "language": "python",
   "name": "python3"
  },
  "language_info": {
   "codemirror_mode": {
    "name": "ipython",
    "version": 3
   },
   "file_extension": ".py",
   "mimetype": "text/x-python",
   "name": "python",
   "nbconvert_exporter": "python",
   "pygments_lexer": "ipython3",
   "version": "3.13.7"
  }
 },
 "nbformat": 4,
 "nbformat_minor": 5
}
