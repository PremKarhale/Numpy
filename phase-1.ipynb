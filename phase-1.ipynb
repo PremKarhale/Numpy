{
 "cells": [
  {
   "cell_type": "markdown",
   "id": "1c639689",
   "metadata": {},
   "source": [
    "## Numpy array basics \n",
    "learning numpy with chai aur code \n"
   ]
  },
  {
   "cell_type": "markdown",
   "id": "24c40a04",
   "metadata": {},
   "source": []
  },
  {
   "cell_type": "markdown",
   "id": "c2af46c5",
   "metadata": {},
   "source": []
  }
 ],
 "metadata": {
  "language_info": {
   "name": "python"
  }
 },
 "nbformat": 4,
 "nbformat_minor": 5
}
