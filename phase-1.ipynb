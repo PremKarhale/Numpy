{
 "cells": [
  {
   "cell_type": "markdown",
   "id": "1c639689",
   "metadata": {},
   "source": [
    "## Numpy array basics \n",
    "learning numpy with chai aur code \n"
   ]
  },
  {
   "cell_type": "markdown",
   "id": "24c40a04",
   "metadata": {},
   "source": []
  },
  {
   "cell_type": "code",
   "execution_count": 2,
   "id": "1e51e692",
   "metadata": {},
   "outputs": [
    {
     "name": "stdout",
     "output_type": "stream",
     "text": [
      "Python executable: c:\\Users\\Admin\\Desktop\\numpy\\Numpy\\venv\\Scripts\\python.exe\n",
      "Should contain 'venv': True\n"
     ]
    }
   ],
   "source": [
    "\n",
    "import sys\n",
    "print(\"Python executable:\", sys.executable)\n",
    "print(\"Should contain 'venv':\", 'venv' in sys.executable)"
   ]
  },
  {
   "cell_type": "code",
   "execution_count": 1,
   "id": "f1f70165",
   "metadata": {},
   "outputs": [
    {
     "name": "stdout",
     "output_type": "stream",
     "text": [
      "Numpy version: 2.3.3\n"
     ]
    }
   ],
   "source": [
    "import numpy as np\n",
    "print(\"Numpy version:\", np.__version__)"
   ]
  },
  {
   "cell_type": "code",
   "execution_count": 4,
   "id": "1e012018",
   "metadata": {},
   "outputs": [
    {
     "name": "stdout",
     "output_type": "stream",
     "text": [
      "1D array: [1 2 3 4 5]\n",
      "[[1 2 3]\n",
      " [4 5 6]]\n"
     ]
    }
   ],
   "source": [
    "arr_1d=np.array([1,2,3,4,5])\n",
    "print(\"1D array:\",arr_1d)\n",
    "\n",
    "arr_2d = np.array([[1,2,3] ,[4,5,6]])\n",
    "print(arr_2d)"
   ]
  },
  {
   "cell_type": "markdown",
   "id": "eec30bb1",
   "metadata": {},
   "source": [
    "## list vs numpy"
   ]
  },
  {
   "cell_type": "code",
   "execution_count": 8,
   "id": "c3d8aa0c",
   "metadata": {},
   "outputs": [
    {
     "name": "stdout",
     "output_type": "stream",
     "text": [
      "Python array multiplication :  [1, 2, 3, 1, 2, 3]\n"
     ]
    }
   ],
   "source": [
    "py_list = [1,2,3]\n",
    "print(\"Python array multiplication : \",py_list*2)"
   ]
  },
  {
   "cell_type": "code",
   "execution_count": 10,
   "id": "c7eb4b94",
   "metadata": {},
   "outputs": [
    {
     "name": "stdout",
     "output_type": "stream",
     "text": [
      "Python array multiplication :  [2 4 6]\n"
     ]
    }
   ],
   "source": [
    "## element wise multiplication \n",
    "np_array= np.array([1,2,3])\n",
    "print(\"Python array multiplication : \",np_array*2)"
   ]
  },
  {
   "cell_type": "code",
   "execution_count": null,
   "id": "95c09b72",
   "metadata": {},
   "outputs": [
    {
     "name": "stdout",
     "output_type": "stream",
     "text": [
      "\n",
      " List operation time :  0.23618197441101074\n"
     ]
    }
   ],
   "source": [
    "import time \n",
    "start = time.time()\n",
    "py_list = [i*2 for i in range(1000000)]\n",
    "print(\"\\n List operation time : \",time.time()-start)"
   ]
  },
  {
   "cell_type": "code",
   "execution_count": null,
   "id": "6756a77a",
   "metadata": {},
   "outputs": [],
   "source": []
  }
 ],
 "metadata": {
  "kernelspec": {
   "display_name": "venv",
   "language": "python",
   "name": "python3"
  },
  "language_info": {
   "codemirror_mode": {
    "name": "ipython",
    "version": 3
   },
   "file_extension": ".py",
   "mimetype": "text/x-python",
   "name": "python",
   "nbconvert_exporter": "python",
   "pygments_lexer": "ipython3",
   "version": "3.13.7"
  }
 },
 "nbformat": 4,
 "nbformat_minor": 5
}
